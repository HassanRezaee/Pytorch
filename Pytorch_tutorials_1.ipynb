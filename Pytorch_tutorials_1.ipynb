{
 "cells": [
  {
   "cell_type": "code",
   "execution_count": 2,
   "id": "b073ddb4",
   "metadata": {},
   "outputs": [],
   "source": [
    "import torch"
   ]
  },
  {
   "cell_type": "code",
   "execution_count": 4,
   "id": "56cfcaa1",
   "metadata": {
    "scrolled": true
   },
   "outputs": [
    {
     "name": "stdout",
     "output_type": "stream",
     "text": [
      "tensor([0.])\n",
      "tensor([[0.5635, 0.4655, 0.9792, 0.1349, 0.9582],\n",
      "        [0.0546, 0.2557, 0.9855, 0.2333, 0.1781],\n",
      "        [0.2646, 0.9627, 0.3199, 0.0298, 0.4558],\n",
      "        [0.2520, 0.6581, 0.2265, 0.8045, 0.5531],\n",
      "        [0.7804, 0.6219, 0.0826, 0.8597, 0.5841]])\n"
     ]
    }
   ],
   "source": [
    "a = torch.empty(1)\n",
    "print(a)\n",
    "a = torch.rand(5,5)\n",
    "print(a)"
   ]
  },
  {
   "cell_type": "code",
   "execution_count": 6,
   "id": "06e78e37",
   "metadata": {},
   "outputs": [
    {
     "name": "stdout",
     "output_type": "stream",
     "text": [
      "tensor([[0.6500, 0.1286, 0.5379],\n",
      "        [0.7473, 0.3957, 0.3412],\n",
      "        [0.4528, 0.5113, 0.2565]])\n",
      "tensor([[1.6500, 1.1286, 1.5379],\n",
      "        [1.7473, 1.3957, 1.3412],\n",
      "        [1.4528, 1.5113, 1.2565]])\n"
     ]
    }
   ],
   "source": [
    "x = torch.rand(3,3)\n",
    "print(x)\n",
    "x.add_(1)\n",
    "print(x)"
   ]
  },
  {
   "cell_type": "code",
   "execution_count": 14,
   "id": "73067ac9",
   "metadata": {
    "scrolled": true
   },
   "outputs": [
    {
     "name": "stdout",
     "output_type": "stream",
     "text": [
      "tensor([[1., 1., 1., 1., 1.],\n",
      "        [1., 1., 1., 1., 1.],\n",
      "        [1., 1., 1., 1., 1.],\n",
      "        [1., 1., 1., 1., 1.],\n",
      "        [1., 1., 1., 1., 1.]], dtype=torch.float16)\n",
      "torch.float16\n"
     ]
    }
   ],
   "source": [
    "a = torch.ones(5,5, dtype=torch.float16)\n",
    "print(a)\n",
    "print(a.dtype)"
   ]
  },
  {
   "cell_type": "code",
   "execution_count": 19,
   "id": "7d336727",
   "metadata": {},
   "outputs": [
    {
     "name": "stdout",
     "output_type": "stream",
     "text": [
      "torch.Size([5, 5])\n",
      "torch.Size([5, 5])\n"
     ]
    }
   ],
   "source": [
    "a = torch.rand(5,5)\n",
    "print(a.size())\n",
    "print(a.shape)"
   ]
  },
  {
   "cell_type": "code",
   "execution_count": 21,
   "id": "dbca3f83",
   "metadata": {},
   "outputs": [
    {
     "name": "stdout",
     "output_type": "stream",
     "text": [
      "tensor([[0.9998, 0.9556],\n",
      "        [0.2529, 1.0973]])\n"
     ]
    }
   ],
   "source": [
    "a = torch.rand(2, 2)\n",
    "b = torch.rand(2, 2)\n",
    "c = torch.add(a, b)\n",
    "c = a + b \n",
    "print(c)"
   ]
  },
  {
   "cell_type": "code",
   "execution_count": 23,
   "id": "74e9ec07",
   "metadata": {},
   "outputs": [
    {
     "name": "stdout",
     "output_type": "stream",
     "text": [
      "tensor([[0.9321, 0.9102],\n",
      "        [0.6241, 0.2610]])\n",
      "tensor([[2.7964, 2.7307],\n",
      "        [1.8722, 0.7829]])\n"
     ]
    }
   ],
   "source": [
    "a = torch.rand(2, 2)\n",
    "print(a)\n",
    "a.mul_(3)\n",
    "print(a)"
   ]
  },
  {
   "cell_type": "code",
   "execution_count": 24,
   "id": "47f74052",
   "metadata": {},
   "outputs": [
    {
     "name": "stdout",
     "output_type": "stream",
     "text": [
      "tensor([[1.8400, 1.8008],\n",
      "        [1.7477, 0.0873]])\n"
     ]
    }
   ],
   "source": [
    "c = torch.sub(a, b)\n",
    "print(c)"
   ]
  },
  {
   "cell_type": "code",
   "execution_count": 25,
   "id": "fa60f401",
   "metadata": {},
   "outputs": [
    {
     "name": "stdout",
     "output_type": "stream",
     "text": [
      "tensor([[ 2.9240,  2.9368],\n",
      "        [15.0414,  1.1254]])\n"
     ]
    }
   ],
   "source": [
    "c = torch.div(a, b)\n",
    "print(c)"
   ]
  },
  {
   "cell_type": "code",
   "execution_count": 28,
   "id": "5a6283b4",
   "metadata": {},
   "outputs": [
    {
     "name": "stdout",
     "output_type": "stream",
     "text": [
      "tensor([[0.5442, 0.6283],\n",
      "        [0.5443, 0.6604],\n",
      "        [0.3103, 0.0788]])\n",
      "tensor([0.5442, 0.5443, 0.3103])\n",
      "0.5442017316818237\n"
     ]
    }
   ],
   "source": [
    "# slicing\n",
    "a = torch.rand(3, 2)\n",
    "print(a)\n",
    "print(a[:,0])\n",
    "print(a[0,0].item())"
   ]
  },
  {
   "cell_type": "code",
   "execution_count": 33,
   "id": "d0b0524c",
   "metadata": {
    "scrolled": true
   },
   "outputs": [
    {
     "name": "stdout",
     "output_type": "stream",
     "text": [
      "tensor([[0.7180, 0.6531, 0.4384, 0.7611],\n",
      "        [0.2674, 0.6475, 0.8807, 0.0058],\n",
      "        [0.5240, 0.5478, 0.0100, 0.6841],\n",
      "        [0.8044, 0.5089, 0.7527, 0.3257]])\n",
      "tensor([[0.7180, 0.6531],\n",
      "        [0.4384, 0.7611],\n",
      "        [0.2674, 0.6475],\n",
      "        [0.8807, 0.0058],\n",
      "        [0.5240, 0.5478],\n",
      "        [0.0100, 0.6841],\n",
      "        [0.8044, 0.5089],\n",
      "        [0.7527, 0.3257]])\n",
      "torch.Size([2, 8])\n"
     ]
    }
   ],
   "source": [
    "# Reshaping a matrix\n",
    "\n",
    "a = torch.rand(4, 4)\n",
    "print(a)\n",
    "b = a.view(8,2)\n",
    "print(b)\n",
    "b = a.view(-1, 8) # this will automatically determine the nrow for the given ncol\n",
    "print(b.size())"
   ]
  },
  {
   "cell_type": "code",
   "execution_count": 46,
   "id": "76954a63",
   "metadata": {},
   "outputs": [
    {
     "name": "stdout",
     "output_type": "stream",
     "text": [
      "tensor([0.0433, 0.8911, 0.3847, 0.9138, 0.6152])\n",
      "<class 'torch.Tensor'>\n",
      "[0.04329294 0.89110273 0.3846705  0.9137605  0.6151658 ]\n",
      "<class 'numpy.ndarray'>\n",
      "tensor([1.0433, 1.8911, 1.3847, 1.9138, 1.6152])\n",
      "[1.043293  1.8911028 1.3846705 1.9137604 1.6151658]\n",
      "[1. 1. 1. 1. 1.]\n",
      "tensor([1., 1., 1., 1., 1.], dtype=torch.float64)\n",
      "[2. 2. 2. 2. 2.]\n",
      "tensor([2., 2., 2., 2., 2.], dtype=torch.float64)\n"
     ]
    }
   ],
   "source": [
    "#  converting numpy array to torch tensor and the opposite\n",
    "import numpy as np\n",
    "a = torch.rand(5)\n",
    "print(a)\n",
    "print(type(a))\n",
    "b = a.numpy()\n",
    "print(b)\n",
    "print(type(b))\n",
    "\n",
    "\n",
    "# If the tensor is on the CPU, such as this machine, then both a and b will share the same memory location\n",
    "# so, changing a will automatically change the b\n",
    "\n",
    "a.add_(1)\n",
    "print(a)\n",
    "print(b)\n",
    "\n",
    "a = np.ones(5)\n",
    "print(a)\n",
    "b = torch.from_numpy(a)\n",
    "print(b)\n",
    "a+=1\n",
    "print(a)\n",
    "print(b)\n",
    "\n",
    "\n"
   ]
  },
  {
   "cell_type": "code",
   "execution_count": 59,
   "id": "083dd889",
   "metadata": {},
   "outputs": [
    {
     "name": "stdout",
     "output_type": "stream",
     "text": [
      "tensor([1., 1., 1., 1., 1.])\n",
      "tensor([1., 1., 1., 1., 1.])\n"
     ]
    }
   ],
   "source": [
    "# how to check if torch saves on GPU:\n",
    "if torch.cuda.is_available():\n",
    "    print('Cuda available')\n",
    "    device = torch.device('cuda')\n",
    "    print(device)\n",
    "    x = torch.ones(5, device=device)\n",
    "    y = torch.ones(5)\n",
    "    y = y.to(device)\n",
    "    z = x + y # this operation will be much faster if we had GPU and with cuda toolkit installed\n",
    "    z.numpy() # And again, if we had GPU this will produce an error, since numpy can work only CPU\n",
    "else:\n",
    "    y = torch.ones(5)\n",
    "    x = torch.zeros(5)\n",
    "    z = x + y # this operation will be much faster if we had GPU and with cuda toolkit installed\n",
    "    print(z)\n",
    "    z.numpy() # And again, if we had GPU this will produce an error, since numpy can work only CPU\n",
    "    print(z)\n",
    "\n",
    "# End of the tutorial 1  "
   ]
  },
  {
   "cell_type": "code",
   "execution_count": null,
   "id": "ef594f67",
   "metadata": {},
   "outputs": [],
   "source": []
  }
 ],
 "metadata": {
  "kernelspec": {
   "display_name": "Python 3 (ipykernel)",
   "language": "python",
   "name": "python3"
  },
  "language_info": {
   "codemirror_mode": {
    "name": "ipython",
    "version": 3
   },
   "file_extension": ".py",
   "mimetype": "text/x-python",
   "name": "python",
   "nbconvert_exporter": "python",
   "pygments_lexer": "ipython3",
   "version": "3.7.11"
  }
 },
 "nbformat": 4,
 "nbformat_minor": 5
}
